{
  "nbformat": 4,
  "nbformat_minor": 0,
  "metadata": {
    "colab": {
      "name": "Aula 7 - RegEx e APIs.ipynb",
      "provenance": []
    },
    "kernelspec": {
      "name": "python3",
      "display_name": "Python 3"
    },
    "language_info": {
      "name": "python"
    }
  },
  "cells": [
    {
      "cell_type": "code",
      "execution_count": 1,
      "metadata": {
        "id": "wtslO3BanCVo"
      },
      "outputs": [],
      "source": [
        "import re"
      ]
    },
    {
      "cell_type": "code",
      "source": [
        "tel_regex = re.compile(r'\\(\\d\\d\\) \\d\\d\\d\\d\\d\\-\\d\\d\\d\\d')"
      ],
      "metadata": {
        "id": "4RMTLW3ynMtw"
      },
      "execution_count": 2,
      "outputs": []
    },
    {
      "cell_type": "code",
      "source": [
        "coleta = tel_regex.search('Meu número é (41) 99123-4567 e meu nome é Josias!')"
      ],
      "metadata": {
        "id": "7IsYbkkcn4dK"
      },
      "execution_count": 6,
      "outputs": []
    },
    {
      "cell_type": "code",
      "source": [
        "coleta.group()"
      ],
      "metadata": {
        "colab": {
          "base_uri": "https://localhost:8080/",
          "height": 35
        },
        "id": "I9UeEJBBoBSI",
        "outputId": "0019f0ad-9542-4c88-e274-f52367017d6b"
      },
      "execution_count": 7,
      "outputs": [
        {
          "output_type": "execute_result",
          "data": {
            "application/vnd.google.colaboratory.intrinsic+json": {
              "type": "string"
            },
            "text/plain": [
              "'(41) 99123-4567'"
            ]
          },
          "metadata": {},
          "execution_count": 7
        }
      ]
    },
    {
      "cell_type": "code",
      "source": [
        "coleta.group(0)"
      ],
      "metadata": {
        "colab": {
          "base_uri": "https://localhost:8080/",
          "height": 35
        },
        "id": "E5Ld-oANoD2Q",
        "outputId": "c0c17949-b3d6-4b64-9231-b08b1b4d30b3"
      },
      "execution_count": 5,
      "outputs": [
        {
          "output_type": "execute_result",
          "data": {
            "application/vnd.google.colaboratory.intrinsic+json": {
              "type": "string"
            },
            "text/plain": [
              "'(41) 99123-4567'"
            ]
          },
          "metadata": {},
          "execution_count": 5
        }
      ]
    },
    {
      "cell_type": "code",
      "source": [
        "tel_regex_dois = re.compile('\\(\\d{2}\\) \\d{4,5}\\-\\d{4}')"
      ],
      "metadata": {
        "id": "Hpsu4NR9oH6Q"
      },
      "execution_count": 8,
      "outputs": []
    },
    {
      "cell_type": "code",
      "source": [
        "coleta = tel_regex_dois.search('Meu número é (41) 99123-4567 e meu nome é Josias!')"
      ],
      "metadata": {
        "id": "ps0dtW6co33X"
      },
      "execution_count": 9,
      "outputs": []
    },
    {
      "cell_type": "code",
      "source": [
        "coleta.group()"
      ],
      "metadata": {
        "colab": {
          "base_uri": "https://localhost:8080/",
          "height": 35
        },
        "id": "076kDOs1o8rX",
        "outputId": "56c2f9e5-4b42-428c-8776-10812a5a7b7d"
      },
      "execution_count": 10,
      "outputs": [
        {
          "output_type": "execute_result",
          "data": {
            "application/vnd.google.colaboratory.intrinsic+json": {
              "type": "string"
            },
            "text/plain": [
              "'(41) 99123-4567'"
            ]
          },
          "metadata": {},
          "execution_count": 10
        }
      ]
    },
    {
      "cell_type": "code",
      "source": [
        "coleta = tel_regex_dois.search('Meu número é (41) 3123-4567 e meu nome é Josias!')"
      ],
      "metadata": {
        "id": "1es3mBdoo9Tv"
      },
      "execution_count": 11,
      "outputs": []
    },
    {
      "cell_type": "code",
      "source": [
        "coleta.group()"
      ],
      "metadata": {
        "colab": {
          "base_uri": "https://localhost:8080/",
          "height": 35
        },
        "id": "HdvVE9Q4pBDn",
        "outputId": "c7bd2865-7dd4-419e-fcc1-09167e177735"
      },
      "execution_count": 12,
      "outputs": [
        {
          "output_type": "execute_result",
          "data": {
            "application/vnd.google.colaboratory.intrinsic+json": {
              "type": "string"
            },
            "text/plain": [
              "'(41) 3123-4567'"
            ]
          },
          "metadata": {},
          "execution_count": 12
        }
      ]
    },
    {
      "cell_type": "code",
      "source": [
        "tel_grupos = re.compile(r'(\\d{2}) (\\d{4,5})\\-(\\d{4})')"
      ],
      "metadata": {
        "id": "UAP9U4lppB1o"
      },
      "execution_count": 13,
      "outputs": []
    },
    {
      "cell_type": "code",
      "source": [
        "coleta = tel_grupos.search('Meu número é 41 3123-4567 e meu nome é Josias!')"
      ],
      "metadata": {
        "id": "amtZgkyHp3Rh"
      },
      "execution_count": 14,
      "outputs": []
    },
    {
      "cell_type": "code",
      "source": [
        "coleta.group()"
      ],
      "metadata": {
        "colab": {
          "base_uri": "https://localhost:8080/",
          "height": 35
        },
        "id": "XXk7LSDPp83Q",
        "outputId": "2ea25005-428f-4f39-ae22-eb08b2f812b1"
      },
      "execution_count": 15,
      "outputs": [
        {
          "output_type": "execute_result",
          "data": {
            "application/vnd.google.colaboratory.intrinsic+json": {
              "type": "string"
            },
            "text/plain": [
              "'41 3123-4567'"
            ]
          },
          "metadata": {},
          "execution_count": 15
        }
      ]
    },
    {
      "cell_type": "code",
      "source": [
        "coleta.group(1)"
      ],
      "metadata": {
        "colab": {
          "base_uri": "https://localhost:8080/",
          "height": 35
        },
        "id": "khdgoWvpp-DP",
        "outputId": "012c18db-0dd1-4d41-dd54-2869054c04f4"
      },
      "execution_count": 16,
      "outputs": [
        {
          "output_type": "execute_result",
          "data": {
            "application/vnd.google.colaboratory.intrinsic+json": {
              "type": "string"
            },
            "text/plain": [
              "'41'"
            ]
          },
          "metadata": {},
          "execution_count": 16
        }
      ]
    },
    {
      "cell_type": "code",
      "source": [
        "coleta.group(2)"
      ],
      "metadata": {
        "colab": {
          "base_uri": "https://localhost:8080/",
          "height": 35
        },
        "id": "zY5zK7p8qBKv",
        "outputId": "5d14cee2-4fc6-4b23-adb1-4794ca652344"
      },
      "execution_count": 17,
      "outputs": [
        {
          "output_type": "execute_result",
          "data": {
            "application/vnd.google.colaboratory.intrinsic+json": {
              "type": "string"
            },
            "text/plain": [
              "'3123'"
            ]
          },
          "metadata": {},
          "execution_count": 17
        }
      ]
    },
    {
      "cell_type": "code",
      "source": [
        "coleta.group(3)"
      ],
      "metadata": {
        "colab": {
          "base_uri": "https://localhost:8080/",
          "height": 35
        },
        "id": "4lfjVRynqDFY",
        "outputId": "68b71a32-ef65-44df-f508-4bd5b722fd6d"
      },
      "execution_count": 18,
      "outputs": [
        {
          "output_type": "execute_result",
          "data": {
            "application/vnd.google.colaboratory.intrinsic+json": {
              "type": "string"
            },
            "text/plain": [
              "'4567'"
            ]
          },
          "metadata": {},
          "execution_count": 18
        }
      ]
    },
    {
      "cell_type": "code",
      "source": [
        "coleta.groups()"
      ],
      "metadata": {
        "colab": {
          "base_uri": "https://localhost:8080/"
        },
        "id": "h15vqQyyqEJX",
        "outputId": "75982941-11c5-4208-e800-0ff3ccd620dc"
      },
      "execution_count": 19,
      "outputs": [
        {
          "output_type": "execute_result",
          "data": {
            "text/plain": [
              "('41', '3123', '4567')"
            ]
          },
          "metadata": {},
          "execution_count": 19
        }
      ]
    },
    {
      "cell_type": "code",
      "source": [
        "regex_ou = re.compile('Wilber|Thomas')"
      ],
      "metadata": {
        "id": "ydbMt7lLqQ2P"
      },
      "execution_count": 21,
      "outputs": []
    },
    {
      "cell_type": "code",
      "source": [
        "coleta = regex_ou.search('Olá, meu nome é Wilber')"
      ],
      "metadata": {
        "id": "0r5o0n7_qpM0"
      },
      "execution_count": 22,
      "outputs": []
    },
    {
      "cell_type": "code",
      "source": [
        "coleta.group()"
      ],
      "metadata": {
        "colab": {
          "base_uri": "https://localhost:8080/",
          "height": 35
        },
        "id": "c8x6KuwKq2d_",
        "outputId": "8a85ad4d-69c2-4f96-a37a-5bb283605f50"
      },
      "execution_count": 23,
      "outputs": [
        {
          "output_type": "execute_result",
          "data": {
            "application/vnd.google.colaboratory.intrinsic+json": {
              "type": "string"
            },
            "text/plain": [
              "'Wilber'"
            ]
          },
          "metadata": {},
          "execution_count": 23
        }
      ]
    },
    {
      "cell_type": "code",
      "source": [
        "coleta = regex_ou.search('Olá, meu nome é Thomas')"
      ],
      "metadata": {
        "id": "2rEdtdsHq5QH"
      },
      "execution_count": 24,
      "outputs": []
    },
    {
      "cell_type": "code",
      "source": [
        "coleta.group()"
      ],
      "metadata": {
        "colab": {
          "base_uri": "https://localhost:8080/",
          "height": 35
        },
        "id": "fjHBkCL3q7IP",
        "outputId": "5d6c7424-80a9-4992-feea-510188d49bae"
      },
      "execution_count": 25,
      "outputs": [
        {
          "output_type": "execute_result",
          "data": {
            "application/vnd.google.colaboratory.intrinsic+json": {
              "type": "string"
            },
            "text/plain": [
              "'Thomas'"
            ]
          },
          "metadata": {},
          "execution_count": 25
        }
      ]
    },
    {
      "cell_type": "code",
      "source": [
        "coleta = regex_ou.search('Olá, meu nome é Sauron')"
      ],
      "metadata": {
        "id": "ZzPz8HAAq7-H"
      },
      "execution_count": 26,
      "outputs": []
    },
    {
      "cell_type": "code",
      "source": [
        "coleta.group()"
      ],
      "metadata": {
        "colab": {
          "base_uri": "https://localhost:8080/",
          "height": 165
        },
        "id": "NXRjyFaiq9Tg",
        "outputId": "a7a852c5-3159-402c-f22d-6a8d227e9928"
      },
      "execution_count": 28,
      "outputs": [
        {
          "output_type": "error",
          "ename": "AttributeError",
          "evalue": "ignored",
          "traceback": [
            "\u001b[0;31m---------------------------------------------------------------------------\u001b[0m",
            "\u001b[0;31mAttributeError\u001b[0m                            Traceback (most recent call last)",
            "\u001b[0;32m<ipython-input-28-0368ad5e0c58>\u001b[0m in \u001b[0;36m<module>\u001b[0;34m()\u001b[0m\n\u001b[0;32m----> 1\u001b[0;31m \u001b[0mcoleta\u001b[0m\u001b[0;34m.\u001b[0m\u001b[0mgroups\u001b[0m\u001b[0;34m(\u001b[0m\u001b[0;34m)\u001b[0m\u001b[0;34m\u001b[0m\u001b[0;34m\u001b[0m\u001b[0m\n\u001b[0m",
            "\u001b[0;31mAttributeError\u001b[0m: 'NoneType' object has no attribute 'groups'"
          ]
        }
      ]
    },
    {
      "cell_type": "code",
      "source": [
        "regex_ou = re.compile('Wil(ber|mar)')"
      ],
      "metadata": {
        "id": "MXgaEQ9vq9_H"
      },
      "execution_count": 29,
      "outputs": []
    },
    {
      "cell_type": "code",
      "source": [
        "coleta = regex_ou.search('Olá, meu nome é Wilber!')"
      ],
      "metadata": {
        "id": "UB_u66iSrgGx"
      },
      "execution_count": 31,
      "outputs": []
    },
    {
      "cell_type": "code",
      "source": [
        "coleta.group()"
      ],
      "metadata": {
        "colab": {
          "base_uri": "https://localhost:8080/",
          "height": 35
        },
        "id": "28BAMHevrl7X",
        "outputId": "8d3b78ac-5e3c-4db5-8821-6adbcfc51e24"
      },
      "execution_count": 32,
      "outputs": [
        {
          "output_type": "execute_result",
          "data": {
            "application/vnd.google.colaboratory.intrinsic+json": {
              "type": "string"
            },
            "text/plain": [
              "'Wilber'"
            ]
          },
          "metadata": {},
          "execution_count": 32
        }
      ]
    },
    {
      "cell_type": "code",
      "source": [
        "coleta = regex_ou.search('Olá, meu nome é Wilmar!')"
      ],
      "metadata": {
        "id": "O_AwWMNErn-P"
      },
      "execution_count": 33,
      "outputs": []
    },
    {
      "cell_type": "code",
      "source": [
        "coleta.group()"
      ],
      "metadata": {
        "colab": {
          "base_uri": "https://localhost:8080/",
          "height": 35
        },
        "id": "vf6JhXyvrqrH",
        "outputId": "02ebcba6-1366-4e01-ef3b-d0e5d1c28c72"
      },
      "execution_count": 34,
      "outputs": [
        {
          "output_type": "execute_result",
          "data": {
            "application/vnd.google.colaboratory.intrinsic+json": {
              "type": "string"
            },
            "text/plain": [
              "'Wilmar'"
            ]
          },
          "metadata": {},
          "execution_count": 34
        }
      ]
    },
    {
      "cell_type": "code",
      "source": [
        "coleta = regex_ou.search('Olá, meu nome é WilWil!')"
      ],
      "metadata": {
        "id": "Erw4CzJcrrb3"
      },
      "execution_count": 35,
      "outputs": []
    },
    {
      "cell_type": "code",
      "source": [
        "coleta.group()"
      ],
      "metadata": {
        "colab": {
          "base_uri": "https://localhost:8080/",
          "height": 165
        },
        "id": "wtqR3mCartc4",
        "outputId": "93fc2514-1ad6-40bf-bd1f-f81647bbb965"
      },
      "execution_count": 36,
      "outputs": [
        {
          "output_type": "error",
          "ename": "AttributeError",
          "evalue": "ignored",
          "traceback": [
            "\u001b[0;31m---------------------------------------------------------------------------\u001b[0m",
            "\u001b[0;31mAttributeError\u001b[0m                            Traceback (most recent call last)",
            "\u001b[0;32m<ipython-input-36-3940c70dbfe4>\u001b[0m in \u001b[0;36m<module>\u001b[0;34m()\u001b[0m\n\u001b[0;32m----> 1\u001b[0;31m \u001b[0mcoleta\u001b[0m\u001b[0;34m.\u001b[0m\u001b[0mgroup\u001b[0m\u001b[0;34m(\u001b[0m\u001b[0;34m)\u001b[0m\u001b[0;34m\u001b[0m\u001b[0;34m\u001b[0m\u001b[0m\n\u001b[0m",
            "\u001b[0;31mAttributeError\u001b[0m: 'NoneType' object has no attribute 'group'"
          ]
        }
      ]
    },
    {
      "cell_type": "code",
      "source": [
        "regex_bat = re.compile('Bat(wo)?man')"
      ],
      "metadata": {
        "id": "PQLz8o4NruJX"
      },
      "execution_count": 37,
      "outputs": []
    },
    {
      "cell_type": "code",
      "source": [
        "coleta = regex_bat.search('As aventuras de Batman')"
      ],
      "metadata": {
        "id": "dVgLNijMsJE4"
      },
      "execution_count": 38,
      "outputs": []
    },
    {
      "cell_type": "code",
      "source": [
        "coleta.group()"
      ],
      "metadata": {
        "colab": {
          "base_uri": "https://localhost:8080/",
          "height": 35
        },
        "id": "a-KycfydsOcI",
        "outputId": "882df95f-0039-46d2-8bd6-77b6bc5d09f1"
      },
      "execution_count": 39,
      "outputs": [
        {
          "output_type": "execute_result",
          "data": {
            "application/vnd.google.colaboratory.intrinsic+json": {
              "type": "string"
            },
            "text/plain": [
              "'Batman'"
            ]
          },
          "metadata": {},
          "execution_count": 39
        }
      ]
    },
    {
      "cell_type": "code",
      "source": [
        "coleta = regex_bat.search('As aventuras de Batwoman')"
      ],
      "metadata": {
        "id": "5oMGqhPksPVn"
      },
      "execution_count": 40,
      "outputs": []
    },
    {
      "cell_type": "code",
      "source": [
        "coleta.group()"
      ],
      "metadata": {
        "colab": {
          "base_uri": "https://localhost:8080/",
          "height": 35
        },
        "id": "q0oit4cTsRUg",
        "outputId": "e45708c0-4f30-4eb0-8f7f-b44a57dc42f5"
      },
      "execution_count": 41,
      "outputs": [
        {
          "output_type": "execute_result",
          "data": {
            "application/vnd.google.colaboratory.intrinsic+json": {
              "type": "string"
            },
            "text/plain": [
              "'Batwoman'"
            ]
          },
          "metadata": {},
          "execution_count": 41
        }
      ]
    },
    {
      "cell_type": "code",
      "source": [
        "regex_risada = re.compile('(HA)*')"
      ],
      "metadata": {
        "id": "fggg0FHYsSEn"
      },
      "execution_count": 42,
      "outputs": []
    },
    {
      "cell_type": "code",
      "source": [
        "coleta = regex_risada.search('HAHAHAHA! Foi uma excelente piada!')"
      ],
      "metadata": {
        "id": "pc5RQccqsuof"
      },
      "execution_count": 45,
      "outputs": []
    },
    {
      "cell_type": "code",
      "source": [
        "coleta.group()"
      ],
      "metadata": {
        "colab": {
          "base_uri": "https://localhost:8080/",
          "height": 35
        },
        "id": "gqjZ2WaJsyHf",
        "outputId": "a637e4a3-76b5-4a99-8d6f-499ab49adb2a"
      },
      "execution_count": 46,
      "outputs": [
        {
          "output_type": "execute_result",
          "data": {
            "application/vnd.google.colaboratory.intrinsic+json": {
              "type": "string"
            },
            "text/plain": [
              "'HAHAHAHA'"
            ]
          },
          "metadata": {},
          "execution_count": 46
        }
      ]
    },
    {
      "cell_type": "code",
      "source": [
        "regex_risada = re.compile('(HA)+')"
      ],
      "metadata": {
        "id": "DkyJ5MHLsy2v"
      },
      "execution_count": 47,
      "outputs": []
    },
    {
      "cell_type": "code",
      "source": [
        "coleta = regex_risada.search('HAHAHAHA! Foi uma excelente piada!')"
      ],
      "metadata": {
        "id": "J8g5uEGus86H"
      },
      "execution_count": 48,
      "outputs": []
    },
    {
      "cell_type": "code",
      "source": [
        "coleta.group()"
      ],
      "metadata": {
        "colab": {
          "base_uri": "https://localhost:8080/",
          "height": 35
        },
        "id": "9obu1tsss-Ou",
        "outputId": "f9a5c394-2e36-4c78-9868-2ff3b3e4c7ac"
      },
      "execution_count": 49,
      "outputs": [
        {
          "output_type": "execute_result",
          "data": {
            "application/vnd.google.colaboratory.intrinsic+json": {
              "type": "string"
            },
            "text/plain": [
              "'HAHAHAHA'"
            ]
          },
          "metadata": {},
          "execution_count": 49
        }
      ]
    },
    {
      "cell_type": "code",
      "source": [
        "tel_regex = re.compile(r'\\(\\d{2}\\) \\d{4,5}\\-\\d{4}')"
      ],
      "metadata": {
        "id": "xHloqHe6s_E2"
      },
      "execution_count": 50,
      "outputs": []
    },
    {
      "cell_type": "code",
      "source": [
        "coleta = tel_regex.findall('Meu número residencial é (41) 3123-4567 e meu número de celular é (41) 99123-4567')"
      ],
      "metadata": {
        "id": "aZWMJcQXtRr_"
      },
      "execution_count": 51,
      "outputs": []
    },
    {
      "cell_type": "code",
      "source": [
        "coleta[1], coleta[0]"
      ],
      "metadata": {
        "colab": {
          "base_uri": "https://localhost:8080/"
        },
        "id": "0uiilEZ9taZ_",
        "outputId": "d8627e4b-0937-4fcb-ba8a-f4ac70546555"
      },
      "execution_count": 55,
      "outputs": [
        {
          "output_type": "execute_result",
          "data": {
            "text/plain": [
              "('(41) 99123-4567', '(41) 3123-4567')"
            ]
          },
          "metadata": {},
          "execution_count": 55
        }
      ]
    },
    {
      "cell_type": "code",
      "source": [
        "regex_inicio = re.compile('^Sabia')"
      ],
      "metadata": {
        "id": "dHdHaB3ptbU-"
      },
      "execution_count": 56,
      "outputs": []
    },
    {
      "cell_type": "code",
      "source": [
        "coleta = regex_inicio.search('Sabia que o significado da vida, do universo e tudo mais é 42?')"
      ],
      "metadata": {
        "id": "-qugnEcit2dm"
      },
      "execution_count": 57,
      "outputs": []
    },
    {
      "cell_type": "code",
      "source": [
        "coleta.group()"
      ],
      "metadata": {
        "colab": {
          "base_uri": "https://localhost:8080/",
          "height": 35
        },
        "id": "0EC32o7Vt9Z3",
        "outputId": "6621fe93-bfe0-4222-bbe0-b2e30711bf5f"
      },
      "execution_count": 58,
      "outputs": [
        {
          "output_type": "execute_result",
          "data": {
            "application/vnd.google.colaboratory.intrinsic+json": {
              "type": "string"
            },
            "text/plain": [
              "'Sabia'"
            ]
          },
          "metadata": {},
          "execution_count": 58
        }
      ]
    },
    {
      "cell_type": "code",
      "source": [
        "regex_inicio = re.compile('^vida')"
      ],
      "metadata": {
        "id": "QpWuzNrft-OZ"
      },
      "execution_count": 59,
      "outputs": []
    },
    {
      "cell_type": "code",
      "source": [
        "coleta = regex_inicio.search('Sabia que o significado da vida, do universo e tudo mais é 42?')"
      ],
      "metadata": {
        "id": "CFnkHVj9uDDP"
      },
      "execution_count": 60,
      "outputs": []
    },
    {
      "cell_type": "code",
      "source": [
        "coleta.group()"
      ],
      "metadata": {
        "colab": {
          "base_uri": "https://localhost:8080/",
          "height": 165
        },
        "id": "cq3iRNEsuDy3",
        "outputId": "2b3473f6-8358-4870-e19a-78bb7e616db7"
      },
      "execution_count": 61,
      "outputs": [
        {
          "output_type": "error",
          "ename": "AttributeError",
          "evalue": "ignored",
          "traceback": [
            "\u001b[0;31m---------------------------------------------------------------------------\u001b[0m",
            "\u001b[0;31mAttributeError\u001b[0m                            Traceback (most recent call last)",
            "\u001b[0;32m<ipython-input-61-3940c70dbfe4>\u001b[0m in \u001b[0;36m<module>\u001b[0;34m()\u001b[0m\n\u001b[0;32m----> 1\u001b[0;31m \u001b[0mcoleta\u001b[0m\u001b[0;34m.\u001b[0m\u001b[0mgroup\u001b[0m\u001b[0;34m(\u001b[0m\u001b[0;34m)\u001b[0m\u001b[0;34m\u001b[0m\u001b[0;34m\u001b[0m\u001b[0m\n\u001b[0m",
            "\u001b[0;31mAttributeError\u001b[0m: 'NoneType' object has no attribute 'group'"
          ]
        }
      ]
    },
    {
      "cell_type": "code",
      "source": [
        "regex_fim = re.compile('\\d{2}$')"
      ],
      "metadata": {
        "id": "gV06IW8CuElP"
      },
      "execution_count": 62,
      "outputs": []
    },
    {
      "cell_type": "code",
      "source": [
        "coleta = regex_fim.search('O significado da vida, do universo e tudo mais é 42')"
      ],
      "metadata": {
        "id": "V-FZmDVauRbH"
      },
      "execution_count": 63,
      "outputs": []
    },
    {
      "cell_type": "code",
      "source": [
        "coleta.group()"
      ],
      "metadata": {
        "colab": {
          "base_uri": "https://localhost:8080/",
          "height": 35
        },
        "id": "F_1MyGwMuXag",
        "outputId": "7ca75026-e834-4875-c9f2-6b823678d475"
      },
      "execution_count": 64,
      "outputs": [
        {
          "output_type": "execute_result",
          "data": {
            "application/vnd.google.colaboratory.intrinsic+json": {
              "type": "string"
            },
            "text/plain": [
              "'42'"
            ]
          },
          "metadata": {},
          "execution_count": 64
        }
      ]
    },
    {
      "cell_type": "code",
      "source": [
        "coleta = regex_fim.search('O significado da vida, do universo e tudo mais é 42?')"
      ],
      "metadata": {
        "id": "aOZrjRImuYGf"
      },
      "execution_count": 65,
      "outputs": []
    },
    {
      "cell_type": "code",
      "source": [
        "coleta.group()"
      ],
      "metadata": {
        "colab": {
          "base_uri": "https://localhost:8080/",
          "height": 165
        },
        "id": "asTuLy8Mubde",
        "outputId": "33af56ee-b345-4ad7-84b4-60b0e8eb3315"
      },
      "execution_count": 66,
      "outputs": [
        {
          "output_type": "error",
          "ename": "AttributeError",
          "evalue": "ignored",
          "traceback": [
            "\u001b[0;31m---------------------------------------------------------------------------\u001b[0m",
            "\u001b[0;31mAttributeError\u001b[0m                            Traceback (most recent call last)",
            "\u001b[0;32m<ipython-input-66-3940c70dbfe4>\u001b[0m in \u001b[0;36m<module>\u001b[0;34m()\u001b[0m\n\u001b[0;32m----> 1\u001b[0;31m \u001b[0mcoleta\u001b[0m\u001b[0;34m.\u001b[0m\u001b[0mgroup\u001b[0m\u001b[0;34m(\u001b[0m\u001b[0;34m)\u001b[0m\u001b[0;34m\u001b[0m\u001b[0;34m\u001b[0m\u001b[0m\n\u001b[0m",
            "\u001b[0;31mAttributeError\u001b[0m: 'NoneType' object has no attribute 'group'"
          ]
        }
      ]
    },
    {
      "cell_type": "code",
      "source": [
        "regex_coringa = re.compile('.at')"
      ],
      "metadata": {
        "id": "ivU17g3kucGW"
      },
      "execution_count": 67,
      "outputs": []
    },
    {
      "cell_type": "code",
      "source": [
        "coleta = regex_coringa.findall('The cat with the hat hit a bat')"
      ],
      "metadata": {
        "id": "1-e2XFTtuvWn"
      },
      "execution_count": 68,
      "outputs": []
    },
    {
      "cell_type": "code",
      "source": [
        "coleta"
      ],
      "metadata": {
        "colab": {
          "base_uri": "https://localhost:8080/"
        },
        "id": "7prf4iSYu2oH",
        "outputId": "bccd55b8-8873-4c0a-c613-df1d36e5db35"
      },
      "execution_count": 69,
      "outputs": [
        {
          "output_type": "execute_result",
          "data": {
            "text/plain": [
              "['cat', 'hat', 'bat']"
            ]
          },
          "metadata": {},
          "execution_count": 69
        }
      ]
    },
    {
      "cell_type": "code",
      "source": [
        "regex_tudo = re.compile('Primeiro nome: (.*) Segundo Nome: (.*)')"
      ],
      "metadata": {
        "id": "NYr-y7IYu3IA"
      },
      "execution_count": 70,
      "outputs": []
    },
    {
      "cell_type": "code",
      "source": [
        "coleta = regex_tudo.search('Primeiro nome: Harry Segundo Nome: Potter')"
      ],
      "metadata": {
        "id": "7KwqYuNgvPHf"
      },
      "execution_count": 73,
      "outputs": []
    },
    {
      "cell_type": "code",
      "source": [
        "coleta.group(1), coleta.group(2)"
      ],
      "metadata": {
        "colab": {
          "base_uri": "https://localhost:8080/"
        },
        "id": "TYPollK_vVxX",
        "outputId": "624b1ac8-bde5-4c61-c06c-6e09d2b062d9"
      },
      "execution_count": 76,
      "outputs": [
        {
          "output_type": "execute_result",
          "data": {
            "text/plain": [
              "('Harry', 'Potter')"
            ]
          },
          "metadata": {},
          "execution_count": 76
        }
      ]
    },
    {
      "cell_type": "code",
      "source": [
        "regex_case = re.compile('metallica', re.IGNORECASE)"
      ],
      "metadata": {
        "id": "4dV4JMkgvWRv"
      },
      "execution_count": 77,
      "outputs": []
    },
    {
      "cell_type": "code",
      "source": [
        "coleta = regex_case.search('MetallicA é uma banda de muito sucesso!')"
      ],
      "metadata": {
        "id": "NasXOM0Dv78I"
      },
      "execution_count": 80,
      "outputs": []
    },
    {
      "cell_type": "code",
      "source": [
        "coleta.group()"
      ],
      "metadata": {
        "colab": {
          "base_uri": "https://localhost:8080/",
          "height": 35
        },
        "id": "g-MpoDjgwAr_",
        "outputId": "1194f82c-fad9-4c93-a0a8-811ada87256b"
      },
      "execution_count": 81,
      "outputs": [
        {
          "output_type": "execute_result",
          "data": {
            "application/vnd.google.colaboratory.intrinsic+json": {
              "type": "string"
            },
            "text/plain": [
              "'MetallicA'"
            ]
          },
          "metadata": {},
          "execution_count": 81
        }
      ]
    },
    {
      "cell_type": "code",
      "source": [
        "regex_subst = re.compile('\\d')"
      ],
      "metadata": {
        "id": "YUFgHNHTwBWv"
      },
      "execution_count": 84,
      "outputs": []
    },
    {
      "cell_type": "code",
      "source": [
        "substituicao = regex_subst.sub('*', 'Meu número residencial é (41) 99123-4567 e meu número de celular é (41) 3123-4567')"
      ],
      "metadata": {
        "id": "eLkEL4Q7wRF3"
      },
      "execution_count": 85,
      "outputs": []
    },
    {
      "cell_type": "code",
      "source": [
        "substituicao"
      ],
      "metadata": {
        "colab": {
          "base_uri": "https://localhost:8080/",
          "height": 35
        },
        "id": "y-CYkq9vwf6m",
        "outputId": "58dc29ac-db62-4b82-812f-603f3e5dff77"
      },
      "execution_count": 86,
      "outputs": [
        {
          "output_type": "execute_result",
          "data": {
            "application/vnd.google.colaboratory.intrinsic+json": {
              "type": "string"
            },
            "text/plain": [
              "'Meu número residencial é (**) *****-**** e meu número de celular é (**) ****-****'"
            ]
          },
          "metadata": {},
          "execution_count": 86
        }
      ]
    },
    {
      "cell_type": "code",
      "source": [
        "regex_subst = re.compile('\\w')"
      ],
      "metadata": {
        "id": "ldclwV4PwiKu"
      },
      "execution_count": 87,
      "outputs": []
    },
    {
      "cell_type": "code",
      "source": [
        "substituicao = regex_subst.sub('*', 'Meu número residencial é (41) 99123-4567 e meu número de celular é (41) 3123-4567')"
      ],
      "metadata": {
        "id": "3_t8pFMpw0-f"
      },
      "execution_count": 88,
      "outputs": []
    },
    {
      "cell_type": "code",
      "source": [
        "substituicao"
      ],
      "metadata": {
        "colab": {
          "base_uri": "https://localhost:8080/",
          "height": 35
        },
        "id": "MkmGRUlEw2NX",
        "outputId": "8b5129bf-e5a1-42f1-ad6f-c7edcf8ab6e4"
      },
      "execution_count": 89,
      "outputs": [
        {
          "output_type": "execute_result",
          "data": {
            "application/vnd.google.colaboratory.intrinsic+json": {
              "type": "string"
            },
            "text/plain": [
              "'*** ****** *********** * (**) *****-**** * *** ****** ** ******* * (**) ****-****'"
            ]
          },
          "metadata": {},
          "execution_count": 89
        }
      ]
    },
    {
      "cell_type": "code",
      "source": [
        "regex_separador = re.compile('\\s')"
      ],
      "metadata": {
        "id": "0gWM_nDpw2xP"
      },
      "execution_count": 90,
      "outputs": []
    },
    {
      "cell_type": "code",
      "source": [
        "substituicao = regex_separador.split('METALLICA é uma banda de muito sucesso!')"
      ],
      "metadata": {
        "id": "ldQImQK_xFx_"
      },
      "execution_count": 91,
      "outputs": []
    },
    {
      "cell_type": "code",
      "source": [
        "substituicao"
      ],
      "metadata": {
        "colab": {
          "base_uri": "https://localhost:8080/"
        },
        "id": "qPYhbsgGxLt_",
        "outputId": "87b5af00-72ce-4ec0-9839-f3d11d3b1000"
      },
      "execution_count": 92,
      "outputs": [
        {
          "output_type": "execute_result",
          "data": {
            "text/plain": [
              "['METALLICA', 'é', 'uma', 'banda', 'de', 'muito', 'sucesso!']"
            ]
          },
          "metadata": {},
          "execution_count": 92
        }
      ]
    },
    {
      "cell_type": "code",
      "source": [
        "regex_separador = re.compile('\\D{5}')"
      ],
      "metadata": {
        "id": "yJEt2GaFxMVW"
      },
      "execution_count": 93,
      "outputs": []
    },
    {
      "cell_type": "code",
      "source": [
        "substituicao = regex_separador.split('METALLICA é uma banda de muito sucesso!')"
      ],
      "metadata": {
        "id": "pO9P58XLxSsX"
      },
      "execution_count": 94,
      "outputs": []
    },
    {
      "cell_type": "code",
      "source": [
        "substituicao"
      ],
      "metadata": {
        "colab": {
          "base_uri": "https://localhost:8080/"
        },
        "id": "FEOPL-5GxTP-",
        "outputId": "dea10c74-5984-4d85-bfcc-cd925d48c234"
      },
      "execution_count": 95,
      "outputs": [
        {
          "output_type": "execute_result",
          "data": {
            "text/plain": [
              "['', '', '', '', '', '', '', 'sso!']"
            ]
          },
          "metadata": {},
          "execution_count": 95
        }
      ]
    },
    {
      "cell_type": "code",
      "source": [
        "regex_cpf = re.compile('\\d{3}\\.?\\d{3}\\.?\\d{3}\\-?\\d{2}')"
      ],
      "metadata": {
        "id": "UYa5Vk17xTzX"
      },
      "execution_count": 96,
      "outputs": []
    },
    {
      "cell_type": "code",
      "source": [
        "coleta = regex_cpf.findall('O seu CPF é 470.485.110-95 e o meu é 11745629009, 123.456789-11')"
      ],
      "metadata": {
        "id": "0ji3adQ7x2Hm"
      },
      "execution_count": 97,
      "outputs": []
    },
    {
      "cell_type": "code",
      "source": [
        "coleta"
      ],
      "metadata": {
        "colab": {
          "base_uri": "https://localhost:8080/"
        },
        "id": "b_dXyWDcx-Iu",
        "outputId": "c191ef84-a89f-4a33-9b1c-9bddf016a7c6"
      },
      "execution_count": 98,
      "outputs": [
        {
          "output_type": "execute_result",
          "data": {
            "text/plain": [
              "['470.485.110-95', '11745629009', '123.456789-11']"
            ]
          },
          "metadata": {},
          "execution_count": 98
        }
      ]
    },
    {
      "cell_type": "code",
      "source": [
        "regex_tel = re.compile('\\(?\\d{2}\\)?\\s?\\d{4,5}\\-?\\d{4}')"
      ],
      "metadata": {
        "id": "s6bcdyoPx_Lu"
      },
      "execution_count": 99,
      "outputs": []
    },
    {
      "cell_type": "code",
      "source": [
        "coleta = regex_tel.findall('O seu telefone fixo é (41) 3123-4567, já o celular é 41 99123-4567 e o meu seria 4131234567.')"
      ],
      "metadata": {
        "id": "uWd1E48nyVJW"
      },
      "execution_count": 100,
      "outputs": []
    },
    {
      "cell_type": "code",
      "source": [
        "coleta"
      ],
      "metadata": {
        "colab": {
          "base_uri": "https://localhost:8080/"
        },
        "id": "KFQobv0CycLe",
        "outputId": "1e295597-0da5-4776-987e-eacf78619b6f"
      },
      "execution_count": 101,
      "outputs": [
        {
          "output_type": "execute_result",
          "data": {
            "text/plain": [
              "['(41) 3123-4567', '41 99123-4567', '4131234567']"
            ]
          },
          "metadata": {},
          "execution_count": 101
        }
      ]
    },
    {
      "cell_type": "code",
      "source": [
        "regex_email = re.compile('(?:\\w+\\.)*\\w*\\@\\w*(?:\\.\\w+)+')"
      ],
      "metadata": {
        "id": "1vf1qaB9yckP"
      },
      "execution_count": 105,
      "outputs": []
    },
    {
      "cell_type": "code",
      "source": [
        "coleta = regex_email.findall('O seu e-mail é tiara.hessel9@yahoo.com, o meu e-mail é shaun_nitzsche96@hotmail.com e acredito que podemos criar um e-mail em conjunto chamado alphonso19@outlook.com.br.')"
      ],
      "metadata": {
        "id": "8uL83yDEzdGG"
      },
      "execution_count": 106,
      "outputs": []
    },
    {
      "cell_type": "code",
      "source": [
        "coleta"
      ],
      "metadata": {
        "colab": {
          "base_uri": "https://localhost:8080/"
        },
        "id": "eQMv_u1Czg2u",
        "outputId": "5262ad38-c923-4ca4-fb12-a1958af1034c"
      },
      "execution_count": 107,
      "outputs": [
        {
          "output_type": "execute_result",
          "data": {
            "text/plain": [
              "['tiara.hessel9@yahoo.com',\n",
              " 'shaun_nitzsche96@hotmail.com',\n",
              " 'alphonso19@outlook.com.br']"
            ]
          },
          "metadata": {},
          "execution_count": 107
        }
      ]
    },
    {
      "cell_type": "code",
      "source": [
        ""
      ],
      "metadata": {
        "id": "Fftnnm9uzhl2"
      },
      "execution_count": null,
      "outputs": []
    }
  ]
}