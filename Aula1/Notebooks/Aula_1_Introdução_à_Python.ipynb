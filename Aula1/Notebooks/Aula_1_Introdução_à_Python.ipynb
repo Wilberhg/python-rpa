{
  "nbformat": 4,
  "nbformat_minor": 0,
  "metadata": {
    "colab": {
      "name": "Aula 1 - Introdução à Python",
      "provenance": [],
      "collapsed_sections": []
    },
    "kernelspec": {
      "name": "python3",
      "display_name": "Python 3"
    },
    "language_info": {
      "name": "python"
    }
  },
  "cells": [
    {
      "cell_type": "markdown",
      "source": [
        "Str"
      ],
      "metadata": {
        "id": "Vg8XNBBQh6xO"
      }
    },
    {
      "cell_type": "code",
      "execution_count": null,
      "metadata": {
        "id": "71kvfIdggMef"
      },
      "outputs": [],
      "source": [
        "nome = 'Wilber Godoy'"
      ]
    },
    {
      "cell_type": "code",
      "source": [
        "nome = \"Thomas Santos\""
      ],
      "metadata": {
        "id": "wPwK8Utygqtx"
      },
      "execution_count": null,
      "outputs": []
    },
    {
      "cell_type": "code",
      "source": [
        "print(nome)"
      ],
      "metadata": {
        "colab": {
          "base_uri": "https://localhost:8080/"
        },
        "id": "uP_XXKoYgdBj",
        "outputId": "88fa1c89-66c0-4d53-f4d4-0d8d08a85638"
      },
      "execution_count": null,
      "outputs": [
        {
          "output_type": "stream",
          "name": "stdout",
          "text": [
            "Thomas Santos\n"
          ]
        }
      ]
    },
    {
      "cell_type": "markdown",
      "source": [
        "Int"
      ],
      "metadata": {
        "id": "Rg6iXlZzh32e"
      }
    },
    {
      "cell_type": "code",
      "source": [
        "age = 14"
      ],
      "metadata": {
        "id": "JRldZa6kg50p"
      },
      "execution_count": null,
      "outputs": []
    },
    {
      "cell_type": "code",
      "source": [
        "nova_idade = 24"
      ],
      "metadata": {
        "id": "rJsBZMJphNbL"
      },
      "execution_count": null,
      "outputs": []
    },
    {
      "cell_type": "code",
      "source": [
        "print(age + nova_idade)"
      ],
      "metadata": {
        "colab": {
          "base_uri": "https://localhost:8080/"
        },
        "id": "C6Q_luP7hbiV",
        "outputId": "d14c0b78-4847-4f9b-9752-3c356244e19e"
      },
      "execution_count": null,
      "outputs": [
        {
          "output_type": "stream",
          "name": "stdout",
          "text": [
            "38\n"
          ]
        }
      ]
    },
    {
      "cell_type": "markdown",
      "source": [
        "Float"
      ],
      "metadata": {
        "id": "Fx341xuFh2W5"
      }
    },
    {
      "cell_type": "code",
      "source": [
        "peso = 78.7"
      ],
      "metadata": {
        "id": "UaDAkZ3EhfIJ"
      },
      "execution_count": null,
      "outputs": []
    },
    {
      "cell_type": "code",
      "source": [
        "novo_peso = 92.3"
      ],
      "metadata": {
        "id": "9ZE_4bUXhtP2"
      },
      "execution_count": null,
      "outputs": []
    },
    {
      "cell_type": "code",
      "source": [
        "print(peso + novo_peso)"
      ],
      "metadata": {
        "colab": {
          "base_uri": "https://localhost:8080/"
        },
        "id": "fj987nzUhyhu",
        "outputId": "ecc5b108-fc43-4f3f-f512-483134caa8e6"
      },
      "execution_count": null,
      "outputs": [
        {
          "output_type": "stream",
          "name": "stdout",
          "text": [
            "171.0\n"
          ]
        }
      ]
    },
    {
      "cell_type": "markdown",
      "source": [
        "Bool"
      ],
      "metadata": {
        "id": "T4koIK-WiCm4"
      }
    },
    {
      "cell_type": "code",
      "source": [
        "texto = True"
      ],
      "metadata": {
        "id": "ShmcegP-h0cG"
      },
      "execution_count": null,
      "outputs": []
    },
    {
      "cell_type": "code",
      "source": [
        "texto = False"
      ],
      "metadata": {
        "id": "Ih2Z9gUEiJ3e"
      },
      "execution_count": null,
      "outputs": []
    },
    {
      "cell_type": "code",
      "source": [
        "print('O meu peso é '+str(age))"
      ],
      "metadata": {
        "colab": {
          "base_uri": "https://localhost:8080/"
        },
        "id": "MYqnU0v-iUfY",
        "outputId": "918a1388-6c2d-4943-b5e0-10449981ea23"
      },
      "execution_count": null,
      "outputs": [
        {
          "output_type": "stream",
          "name": "stdout",
          "text": [
            "O meu peso é 14\n"
          ]
        }
      ]
    },
    {
      "cell_type": "code",
      "source": [
        "str(age)"
      ],
      "metadata": {
        "colab": {
          "base_uri": "https://localhost:8080/",
          "height": 35
        },
        "id": "Yu6O2hf5iZKH",
        "outputId": "020a6e02-ed41-4455-8950-e913b60588c0"
      },
      "execution_count": null,
      "outputs": [
        {
          "output_type": "execute_result",
          "data": {
            "application/vnd.google.colaboratory.intrinsic+json": {
              "type": "string"
            },
            "text/plain": [
              "'14'"
            ]
          },
          "metadata": {},
          "execution_count": 14
        }
      ]
    },
    {
      "cell_type": "code",
      "source": [
        "x = int(\"32\")"
      ],
      "metadata": {
        "id": "BHEox73Uie4l"
      },
      "execution_count": null,
      "outputs": []
    },
    {
      "cell_type": "code",
      "source": [
        "y = int(\"55\")"
      ],
      "metadata": {
        "id": "2B3bmCO6ims9"
      },
      "execution_count": null,
      "outputs": []
    },
    {
      "cell_type": "code",
      "source": [
        "print(x+y)"
      ],
      "metadata": {
        "colab": {
          "base_uri": "https://localhost:8080/"
        },
        "id": "sp0WxHJhipQl",
        "outputId": "facb2424-56fb-4055-ec7d-e498120dfd77"
      },
      "execution_count": null,
      "outputs": [
        {
          "output_type": "stream",
          "name": "stdout",
          "text": [
            "87\n"
          ]
        }
      ]
    },
    {
      "cell_type": "code",
      "source": [
        "z = \"67\""
      ],
      "metadata": {
        "id": "y1osJDaHiqIt"
      },
      "execution_count": null,
      "outputs": []
    },
    {
      "cell_type": "code",
      "source": [
        "float(z)"
      ],
      "metadata": {
        "colab": {
          "base_uri": "https://localhost:8080/"
        },
        "id": "78GLWBCriz0m",
        "outputId": "c5f939d8-4c47-49fb-d085-8b248eabbdad"
      },
      "execution_count": null,
      "outputs": [
        {
          "output_type": "execute_result",
          "data": {
            "text/plain": [
              "67.0"
            ]
          },
          "metadata": {},
          "execution_count": 22
        }
      ]
    },
    {
      "cell_type": "code",
      "source": [
        "print('A minha idade é', age)"
      ],
      "metadata": {
        "colab": {
          "base_uri": "https://localhost:8080/"
        },
        "id": "RFpj_vV3i08d",
        "outputId": "0e9a77e4-6811-46f7-b3c2-ebe1beb4f928"
      },
      "execution_count": null,
      "outputs": [
        {
          "output_type": "stream",
          "name": "stdout",
          "text": [
            "A minha idade é 14\n"
          ]
        }
      ]
    },
    {
      "cell_type": "code",
      "source": [
        "print('A minha idade é {}'.format(age))"
      ],
      "metadata": {
        "colab": {
          "base_uri": "https://localhost:8080/"
        },
        "id": "i2vvIy3li-Ot",
        "outputId": "7259d646-fef2-4829-deff-ef207ccdf1cc"
      },
      "execution_count": null,
      "outputs": [
        {
          "output_type": "stream",
          "name": "stdout",
          "text": [
            "A minha idade é 14\n"
          ]
        }
      ]
    },
    {
      "cell_type": "code",
      "source": [
        "print(f'A minha idade é {nova_idade}')"
      ],
      "metadata": {
        "colab": {
          "base_uri": "https://localhost:8080/"
        },
        "id": "aFptOfYljGoF",
        "outputId": "7d734776-8c0b-49ce-eb0f-8d135ccbae62"
      },
      "execution_count": null,
      "outputs": [
        {
          "output_type": "stream",
          "name": "stdout",
          "text": [
            "A minha idade é 24\n"
          ]
        }
      ]
    },
    {
      "cell_type": "markdown",
      "source": [
        "Tuple"
      ],
      "metadata": {
        "id": "iWO7Q3ZKjyCL"
      }
    },
    {
      "cell_type": "code",
      "source": [
        "lista_de_tarefas = (\"Dar aula\", \"Trabalhar\", \"Estudar\", \"Brincar\")"
      ],
      "metadata": {
        "id": "EfLaMyIxjPQd"
      },
      "execution_count": null,
      "outputs": []
    },
    {
      "cell_type": "code",
      "source": [
        "print(lista_de_tarefas)"
      ],
      "metadata": {
        "colab": {
          "base_uri": "https://localhost:8080/"
        },
        "id": "2scgyBXgjtTe",
        "outputId": "c4064867-dedc-49ab-dcaf-bcc18a513357"
      },
      "execution_count": null,
      "outputs": [
        {
          "output_type": "stream",
          "name": "stdout",
          "text": [
            "('Dar aula', 'Trabalhar', 'Estudar', 'Brincar')\n"
          ]
        }
      ]
    },
    {
      "cell_type": "code",
      "source": [
        "lista_de_tarefas[-2]"
      ],
      "metadata": {
        "colab": {
          "base_uri": "https://localhost:8080/",
          "height": 35
        },
        "id": "6iQJwZe6juaG",
        "outputId": "3e1e2fc8-4435-46c9-a46c-e2a4fad747fd"
      },
      "execution_count": null,
      "outputs": [
        {
          "output_type": "execute_result",
          "data": {
            "application/vnd.google.colaboratory.intrinsic+json": {
              "type": "string"
            },
            "text/plain": [
              "'Estudar'"
            ]
          },
          "metadata": {},
          "execution_count": 36
        }
      ]
    },
    {
      "cell_type": "code",
      "source": [
        "len(lista_de_tarefas)"
      ],
      "metadata": {
        "colab": {
          "base_uri": "https://localhost:8080/"
        },
        "id": "C5xj9M8zj-CN",
        "outputId": "1c3de3e2-8a61-441f-8d2c-1cc88cd7e9a7"
      },
      "execution_count": null,
      "outputs": [
        {
          "output_type": "execute_result",
          "data": {
            "text/plain": [
              "4"
            ]
          },
          "metadata": {},
          "execution_count": 37
        }
      ]
    },
    {
      "cell_type": "code",
      "source": [
        "len(f'A minha idade é {nova_idade}')"
      ],
      "metadata": {
        "colab": {
          "base_uri": "https://localhost:8080/"
        },
        "id": "rGSwqAsUkRK2",
        "outputId": "ddfa56b4-3c29-4f62-92d6-fddebf4f7229"
      },
      "execution_count": null,
      "outputs": [
        {
          "output_type": "execute_result",
          "data": {
            "text/plain": [
              "18"
            ]
          },
          "metadata": {},
          "execution_count": 38
        }
      ]
    },
    {
      "cell_type": "code",
      "source": [
        "x = int(input(\"Insira o valor de x: \"))"
      ],
      "metadata": {
        "colab": {
          "base_uri": "https://localhost:8080/"
        },
        "id": "GgB733OWkVF2",
        "outputId": "5fe37e76-d8a9-4bda-d649-4c99395e2c75"
      },
      "execution_count": null,
      "outputs": [
        {
          "name": "stdout",
          "output_type": "stream",
          "text": [
            "Insira o valor de x: 52\n"
          ]
        }
      ]
    },
    {
      "cell_type": "code",
      "source": [
        "print(x)"
      ],
      "metadata": {
        "colab": {
          "base_uri": "https://localhost:8080/"
        },
        "id": "RJBXwPHckldd",
        "outputId": "3719f084-ccf8-40bb-c620-d26e2879b360"
      },
      "execution_count": null,
      "outputs": [
        {
          "output_type": "stream",
          "name": "stdout",
          "text": [
            "52\n"
          ]
        }
      ]
    },
    {
      "cell_type": "code",
      "source": [
        "y = int(input(\"Insira o valor de y: \"))"
      ],
      "metadata": {
        "colab": {
          "base_uri": "https://localhost:8080/"
        },
        "id": "gKMTsC1Tknw9",
        "outputId": "d3b521c6-d5cd-4dd3-9c75-e98f9847458f"
      },
      "execution_count": null,
      "outputs": [
        {
          "name": "stdout",
          "output_type": "stream",
          "text": [
            "Insira o valor de y: 13\n"
          ]
        }
      ]
    },
    {
      "cell_type": "code",
      "source": [
        "print(x+y)"
      ],
      "metadata": {
        "colab": {
          "base_uri": "https://localhost:8080/"
        },
        "id": "WEfRDG1Ekrrd",
        "outputId": "49277c96-f7e2-4ef6-9b48-d74e5242b295"
      },
      "execution_count": null,
      "outputs": [
        {
          "output_type": "stream",
          "name": "stdout",
          "text": [
            "65\n"
          ]
        }
      ]
    },
    {
      "cell_type": "code",
      "source": [
        "type(y)"
      ],
      "metadata": {
        "colab": {
          "base_uri": "https://localhost:8080/"
        },
        "id": "Xw88clQokvNN",
        "outputId": "99d95e5b-40e1-4f73-e347-21ebd54b36d7"
      },
      "execution_count": null,
      "outputs": [
        {
          "output_type": "execute_result",
          "data": {
            "text/plain": [
              "str"
            ]
          },
          "metadata": {},
          "execution_count": 43
        }
      ]
    },
    {
      "cell_type": "code",
      "source": [
        "lista_de_tarefas = (\"Dar aula\", \"Trabalhar\", \"Estudar\", \"Brincar\")"
      ],
      "metadata": {
        "id": "6tIwfNp-k0Wl"
      },
      "execution_count": null,
      "outputs": []
    },
    {
      "cell_type": "code",
      "source": [
        "if \"Ouvir música\" in lista_de_tarefas:\n",
        "  print('De fato, a tarefa Estudar está dentro de lista_de_tarefas!')\n",
        "else: \n",
        "  print('Essa tarefa ainda não está inclusa!')"
      ],
      "metadata": {
        "colab": {
          "base_uri": "https://localhost:8080/"
        },
        "id": "A7SN0UvGlOtd",
        "outputId": "ee936be7-1082-460f-ecb5-604a96ebea5e"
      },
      "execution_count": null,
      "outputs": [
        {
          "output_type": "stream",
          "name": "stdout",
          "text": [
            "Essa tarefa ainda não está inclusa!\n"
          ]
        }
      ]
    },
    {
      "cell_type": "code",
      "source": [
        "maioridade = 21"
      ],
      "metadata": {
        "id": "-udEV9ZSldGF"
      },
      "execution_count": null,
      "outputs": []
    },
    {
      "cell_type": "code",
      "source": [
        "idade_intermediaria = 16"
      ],
      "metadata": {
        "id": "KmkTwLh9llil"
      },
      "execution_count": null,
      "outputs": []
    },
    {
      "cell_type": "code",
      "source": [
        "idade_real = 15"
      ],
      "metadata": {
        "id": "AzYA4LIhln4t"
      },
      "execution_count": null,
      "outputs": []
    },
    {
      "cell_type": "code",
      "source": [
        "# Validação de idade maior que 18 anos\n",
        "if idade_real >= 18:\n",
        "  # print do usuário\n",
        "  print('O usuário é MAIOR de idade')\n",
        "elif idade_real >= 16 and idade_real < 18:\n",
        "  #print(\"Já é QUASE maior de idade\") # novo print para o usuario\n",
        "  print(type(idade_real))\n",
        "elif idade_real > 80:\n",
        "  print('O usuário está beirando a 3ª idade')\n",
        "else:\n",
        "  print(\"O usuário é MENOR de idade\")"
      ],
      "metadata": {
        "colab": {
          "base_uri": "https://localhost:8080/"
        },
        "id": "OreINmxwlpgu",
        "outputId": "88ac70d0-a844-406f-8da7-393679fa5279"
      },
      "execution_count": null,
      "outputs": [
        {
          "output_type": "stream",
          "name": "stdout",
          "text": [
            "O usuário é MENOR de idade\n"
          ]
        }
      ]
    },
    {
      "cell_type": "code",
      "source": [
        "''' Idade Real é\n",
        "    Uma variavel que armazena\n",
        "    A idade do usuário \n",
        "    Que irá usar o programa'''\n",
        "\"\"\" asiuhaiufaui \"\"\"\n",
        "\n",
        "idade_real == 15"
      ],
      "metadata": {
        "colab": {
          "base_uri": "https://localhost:8080/"
        },
        "id": "wCJ-zqY7l5sU",
        "outputId": "4b3b739b-fce3-42f1-a4e6-c9d2f1256561"
      },
      "execution_count": null,
      "outputs": [
        {
          "output_type": "execute_result",
          "data": {
            "text/plain": [
              "True"
            ]
          },
          "metadata": {},
          "execution_count": 65
        }
      ]
    },
    {
      "cell_type": "code",
      "source": [
        "idade_real != 15"
      ],
      "metadata": {
        "colab": {
          "base_uri": "https://localhost:8080/"
        },
        "id": "bsfGQqSCmn21",
        "outputId": "ba9734ae-6f21-4fe8-b460-155caefafa89"
      },
      "execution_count": null,
      "outputs": [
        {
          "output_type": "execute_result",
          "data": {
            "text/plain": [
              "False"
            ]
          },
          "metadata": {},
          "execution_count": 63
        }
      ]
    },
    {
      "cell_type": "code",
      "source": [
        ""
      ],
      "metadata": {
        "id": "DKiRZ977mq9V"
      },
      "execution_count": null,
      "outputs": []
    }
  ]
}